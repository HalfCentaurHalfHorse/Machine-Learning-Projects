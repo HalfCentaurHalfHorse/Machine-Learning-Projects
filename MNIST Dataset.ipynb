{
 "cells": [
  {
   "cell_type": "markdown",
   "metadata": {},
   "source": [
    "# MNIST Dataset"
   ]
  },
  {
   "cell_type": "code",
   "execution_count": 1,
   "metadata": {},
   "outputs": [],
   "source": [
    "# import the dataset from sklearn\n",
    "from sklearn.datasets import fetch_openml\n",
    "import numpy as np"
   ]
  },
  {
   "cell_type": "code",
   "execution_count": 2,
   "metadata": {},
   "outputs": [
    {
     "data": {
      "text/plain": [
       "dict_keys(['data', 'target', 'frame', 'categories', 'feature_names', 'target_names', 'DESCR', 'details', 'url'])"
      ]
     },
     "execution_count": 2,
     "metadata": {},
     "output_type": "execute_result"
    }
   ],
   "source": [
    "# fetch the MNIST dataset and store it \n",
    "mnist = fetch_openml('mnist_784',version=1)\n",
    "mnist.keys()"
   ]
  },
  {
   "cell_type": "code",
   "execution_count": 3,
   "metadata": {},
   "outputs": [
    {
     "name": "stdout",
     "output_type": "stream",
     "text": [
      "X.shape:  (70000, 784)\n",
      "y.shape:  (70000,)\n",
      "<class 'numpy.ndarray'>\n",
      "<class 'numpy.ndarray'>\n",
      "<class 'str'>\n",
      "<class 'numpy.uint8'>\n"
     ]
    }
   ],
   "source": [
    "# load the data and the target\n",
    "X, y = mnist['data'], mnist['target']\n",
    "\n",
    "# take a look at the shape of the dataset\n",
    "print('X.shape: ', X.shape)\n",
    "print('y.shape: ', y.shape)\n",
    "\n",
    "print(type(X))\n",
    "print(type(y))\n",
    "print(type(y[0]))\n",
    "\n",
    "# convert str to int\n",
    "y = y.astype(np.uint8)\n",
    "print(type(y[0]))"
   ]
  },
  {
   "cell_type": "markdown",
   "metadata": {},
   "source": [
    "# Visualization\n",
    "Thus we have 70000 samples, each of which has 784 features, which stands for the 28*28 pixels.\n",
    "Our next step is to visualize an image to get a feel for the dataset."
   ]
  },
  {
   "cell_type": "code",
   "execution_count": 4,
   "metadata": {},
   "outputs": [],
   "source": [
    "# some imports for visualization\n",
    "import matplotlib.pyplot as plt\n",
    "import matplotlib as mpl"
   ]
  },
  {
   "cell_type": "code",
   "execution_count": 5,
   "metadata": {},
   "outputs": [
    {
     "name": "stdout",
     "output_type": "stream",
     "text": [
      "<class 'numpy.ndarray'>\n",
      "raw shape (784,)\n",
      "new shape (28, 28)\n"
     ]
    }
   ],
   "source": [
    "# reshape the image before plotting\n",
    "first_digit = X[0]\n",
    "print(type(first_digit))\n",
    "print('raw shape', first_digit.shape)\n",
    "\n",
    "first_digit = first_digit.reshape(28,28)\n",
    "print('new shape', first_digit.shape)"
   ]
  },
  {
   "cell_type": "code",
   "execution_count": 6,
   "metadata": {},
   "outputs": [
    {
     "data": {
      "image/png": "[encoded data removed]",
      "text/plain": [
       "<Figure size 432x288 with 1 Axes>"
      ]
     },
     "metadata": {
      "needs_background": "light"
     },
     "output_type": "display_data"
    },
    {
     "name": "stdout",
     "output_type": "stream",
     "text": [
      "y label:  5\n"
     ]
    }
   ],
   "source": [
    "# plot the image\n",
    "plt.imshow(first_digit, cmap='binary') # try without the cmap argument, plt.imshow(first_digit)\n",
    "plt.axis('off')\n",
    "plt.title('The First Digit')\n",
    "plt.show()\n",
    "\n",
    "# print the y label of this image\n",
    "print('y label: ', y[0])"
   ]
  },
  {
   "cell_type": "code",
   "execution_count": 7,
   "metadata": {},
   "outputs": [
    {
     "data": {
      "image/png": "[encoded data removed]",
      "text/plain": [
       "<Figure size 432x432 with 9 Axes>"
      ]
     },
     "metadata": {},
     "output_type": "display_data"
    }
   ],
   "source": [
    "# We can define our own function of visualization, plot n square images.\n",
    "def plot_some_images(image_set, n):\n",
    "    plt.figure(figsize=(n*2,n*2))\n",
    "    for i in range(n**2):\n",
    "        digit = image_set[i].reshape(28,28)\n",
    "        plt.subplot(n,n,i+1)\n",
    "        plt.xticks([])\n",
    "        plt.yticks([])\n",
    "        plt.axis('off')\n",
    "        plt.imshow(digit, cmap = 'binary')\n",
    "\n",
    "plot_some_images(X, 3)\n",
    "plt.show()"
   ]
  },
  {
   "cell_type": "markdown",
   "metadata": {},
   "source": [
    "# First Train\n",
    "Now that we see what's going on in the dataset, we want to predict some numbers using a model. So we need to divde the dataset into a training set and a test set (we'll do validation set later)."
   ]
  },
  {
   "cell_type": "code",
   "execution_count": 8,
   "metadata": {},
   "outputs": [],
   "source": [
    "# divide the dataset into a ratio of 6:1 for the training set and the test set repsectively. \n",
    "X_train, y_train = X[:60000], y[:60000]\n",
    "X_test, y_test = X[60000:], y[60000:]"
   ]
  },
  {
   "cell_type": "markdown",
   "metadata": {},
   "source": [
    "To start, we can train a binary classifier between one digit and all the rest instead of a multi-class classifier distingushing\n",
    "all the numbers. We'll pick 0 in this case."
   ]
  },
  {
   "cell_type": "code",
   "execution_count": 9,
   "metadata": {
    "scrolled": true
   },
   "outputs": [
    {
     "name": "stdout",
     "output_type": "stream",
     "text": [
      "[False False False  True False False False False False False]\n"
     ]
    }
   ],
   "source": [
    "# label the data true if 0, else False\n",
    "y_train_0 = (y_train == 0)\n",
    "y_test_0 = (y_test == 0)\n",
    "\n",
    "# to see what's ging on \n",
    "print(y_test_0[:10])"
   ]
  },
  {
   "cell_type": "code",
   "execution_count": 10,
   "metadata": {},
   "outputs": [
    {
     "data": {
      "text/plain": [
       "SGDClassifier(random_state=42)"
      ]
     },
     "execution_count": 10,
     "metadata": {},
     "output_type": "execute_result"
    }
   ],
   "source": [
    "# Using Stochastic Gradient Descent Classifier\n",
    "from sklearn.linear_model import SGDClassifier\n",
    "# clf stands for classifier\n",
    "sgd_clf = SGDClassifier(random_state=42)\n",
    "sgd_clf.fit(X_train, y_train_0) "
   ]
  },
  {
   "cell_type": "code",
   "execution_count": 11,
   "metadata": {},
   "outputs": [
    {
     "name": "stdout",
     "output_type": "stream",
     "text": [
      "train accuracy score 0.99155\n",
      "test accuracy score:  0.9894\n",
      "[[8953   67]\n",
      " [  39  941]]\n"
     ]
    }
   ],
   "source": [
    "print('train accuracy score', sgd_clf.score(X_train, y_train_0))\n",
    "print('test accuracy score: ', sgd_clf.score(X_test, y_test_0))\n",
    "\n",
    "from sklearn.metrics import confusion_matrix\n",
    "\n",
    "y_pred = sgd_clf.predict(X_test)\n",
    "print(confusion_matrix(y_test_0, y_pred))"
   ]
  },
  {
   "cell_type": "markdown",
   "metadata": {},
   "source": [
    "# Cross Validation\n",
    "Now we are down to do some cross validation. "
   ]
  },
  {
   "cell_type": "code",
   "execution_count": 12,
   "metadata": {},
   "outputs": [
    {
     "name": "stdout",
     "output_type": "stream",
     "text": [
      "[19845 19856 19857 ... 59997 59998 59999] [    0     1     2 ... 20019 20020 20021]\n",
      "[    0     1     2 ... 59997 59998 59999] [19845 19856 19857 ... 40180 40188 40199]\n",
      "[    0     1     2 ... 40180 40188 40199] [39974 39976 39977 ... 59997 59998 59999]\n"
     ]
    }
   ],
   "source": [
    "# implementing cross validation\n",
    "\n",
    "from sklearn.model_selection import StratifiedKFold as SKF\n",
    "from sklearn.base import clone\n",
    "\n",
    "# split the training data into 3 folds  \n",
    "folds = SKF(n_splits=3)\n",
    "\n",
    "# see what the split method does \n",
    "for train_index, test_index in folds.split(X_train, y_train_0):\n",
    "    print(train_index, test_index)"
   ]
  },
  {
   "cell_type": "code",
   "execution_count": 13,
   "metadata": {},
   "outputs": [
    {
     "name": "stdout",
     "output_type": "stream",
     "text": [
      "cross validation scores:  [0.9620060790273556, 0.9660587639311043, 0.9316455696202531]\n"
     ]
    }
   ],
   "source": [
    "from sklearn.metrics import precision_score, recall_score\n",
    "\n",
    "# perform cross_validation and output accuracy / precision / recall\n",
    "def custom_cross_validation(n_folds, X_train, y_train, metric='accuracy'):\n",
    "    \n",
    "    # if metric not right, raise error\n",
    "    if metric not in ['accuracy', 'precision', 'recall']: raise Exception('unknown metric')\n",
    "    \n",
    "    folds = SKF(n_splits = n_folds)\n",
    "    \n",
    "    score_lst = []\n",
    "    for train_index, test_index in folds.split(X_train, y_train):\n",
    "        clone_clf = clone(sgd_clf)\n",
    "        # get the train folds\n",
    "        X_train_folds = X_train[train_index]\n",
    "        y_train_folds = y_train[train_index]\n",
    "        # get the test folds\n",
    "        X_test_fold = X_train[test_index]\n",
    "        y_test_fold = y_train[test_index]\n",
    "        \n",
    "        # train the train folds and test against the test fold to get the score\n",
    "        clone_clf.fit(X_train_folds, y_train_folds)\n",
    "        \n",
    "        # predict on the validation set \n",
    "        if metric == 'accuracy':\n",
    "            score_lst.append(clone_clf.score(X_test_fold, y_test_fold))\n",
    "        else:\n",
    "            y_test_pred = clone_clf.predict(X_test_fold)\n",
    "            if metric == 'precision':\n",
    "                score_lst.append(precision_score(y_test_fold, y_test_pred))\n",
    "            else:\n",
    "                score_lst.append(recall_score(y_test_fold, y_test_pred))\n",
    "    return score_lst\n",
    "        \n",
    "score_lst = custom_cross_validation(3, X_train, y_train_0, 'recall')\n",
    "print('cross validation scores: ', score_lst)"
   ]
  },
  {
   "cell_type": "code",
   "execution_count": 14,
   "metadata": {},
   "outputs": [
    {
     "data": {
      "text/plain": [
       "array([0.9854, 0.9847, 0.9865])"
      ]
     },
     "execution_count": 14,
     "metadata": {},
     "output_type": "execute_result"
    }
   ],
   "source": [
    "# Now let's move to the built-in cross validation method\n",
    "from sklearn.model_selection import cross_val_score\n",
    "cross_val_score(sgd_clf, X_train, y_train_0, cv=3, scoring='accuracy')"
   ]
  },
  {
   "cell_type": "markdown",
   "metadata": {},
   "source": [
    "# Looks good?\n",
    "The cross validation scores seems pretty good. But since only 10% of the data has 0 as its actual label, if we simply classify everything as non-zero, we would still get a score of around 90%. Thus accuracy might not be a good"
   ]
  },
  {
   "cell_type": "code",
   "execution_count": 15,
   "metadata": {},
   "outputs": [
    {
     "data": {
      "text/plain": [
       "array([0.9003 , 0.9035 , 0.90005])"
      ]
     },
     "execution_count": 15,
     "metadata": {},
     "output_type": "execute_result"
    }
   ],
   "source": [
    "from sklearn.base import BaseEstimator\n",
    "\n",
    "class Never0Classifier(BaseEstimator):\n",
    "    def fit(self, X, y=None):\n",
    "        return self\n",
    "    def predict(self, X):\n",
    "        return np.zeros([len(X),1],dtype=bool)\n",
    "\n",
    "dumb_clf = Never0Classifier()\n",
    "cross_val_score(dumb_clf, X_train, y_train_0, cv=3, scoring='accuracy')"
   ]
  },
  {
   "cell_type": "code",
   "execution_count": 16,
   "metadata": {},
   "outputs": [
    {
     "name": "stdout",
     "output_type": "stream",
     "text": [
      "test set precision: 0.933531746031746\n",
      "test set recall:  0.960204081632653\n",
      "dumb precision: 0.0\n",
      "dumb recall:  0.0\n"
     ]
    },
    {
     "name": "stderr",
     "output_type": "stream",
     "text": [
      "C:\\Users\\mil_kry\\AppData\\Roaming\\Python\\Python37\\site-packages\\sklearn\\metrics\\_classification.py:1221: UndefinedMetricWarning: Precision is ill-defined and being set to 0.0 due to no predicted samples. Use `zero_division` parameter to control this behavior.\n",
      "  _warn_prf(average, modifier, msg_start, len(result))\n"
     ]
    }
   ],
   "source": [
    "# However, we can use recall and precision to see their differences.\n",
    "from sklearn.metrics import precision_score, recall_score\n",
    "\n",
    "y_test_pred = sgd_clf.predict(X_test)\n",
    "y_dumb_pred = dumb_clf.predict(X_test)\n",
    "\n",
    "print('test set precision:', precision_score(y_test_0, y_test_pred))\n",
    "print('test set recall: ', recall_score(y_test_0, y_test_pred))\n",
    "\n",
    "print('dumb precision:', precision_score(y_test_0, y_dumb_pred))\n",
    "print('dumb recall: ', recall_score(y_test_0, y_dumb_pred))"
   ]
  },
  {
   "cell_type": "markdown",
   "metadata": {},
   "source": [
    "# Precision-Recall-Trade-Off\n",
    "\n",
    "There is a trade off between precision and recall. At default, score threshold is 0 and a sample gets classified as positive if and only if the score is greater than 0. The higher the score threshold is, the higher the precision and the lower the recall, since it gets harder and harder for negative samples to reach such a demanding score while positive samples get filtered more frequently. On the other hand, the lower the threshold, the higher the Recall and the lower the Precision.  \n",
    "\n",
    "Also, we are going to try different ways to measure the performance of our model."
   ]
  },
  {
   "cell_type": "code",
   "execution_count": 17,
   "metadata": {},
   "outputs": [],
   "source": [
    "from sklearn.model_selection import cross_val_predict\n",
    "\n",
    "# specify method to return scores instead of labels\n",
    "y_scores = cross_val_predict(sgd_clf, X_train, y_train_0, cv=3, method='decision_function')"
   ]
  },
  {
   "cell_type": "code",
   "execution_count": 18,
   "metadata": {},
   "outputs": [
    {
     "data": {
      "image/png": "[encoded data removed]",
      "text/plain": [
       "<Figure size 432x288 with 1 Axes>"
      ]
     },
     "metadata": {
      "needs_background": "light"
     },
     "output_type": "display_data"
    }
   ],
   "source": [
    "# plot the precision-recall-threshold curve\n",
    "\n",
    "from sklearn.metrics import precision_recall_curve\n",
    "\n",
    "precisions, recalls, thresholds = precision_recall_curve(y_train_0, y_scores)\n",
    "                                                         \n",
    "def plot_precision_recall_threshold(precisions, recalls, thresholds):\n",
    "    plt.plot(thresholds, precisions[:-1], label = 'precision')\n",
    "    plt.plot(thresholds, recalls[:-1], label = 'recalls')\n",
    "    plt.xlabel('Threshold')\n",
    "    plt.legend()\n",
    "\n",
    "plot_precision_recall_threshold(precisions, recalls, thresholds)\n"
   ]
  },
  {
   "cell_type": "code",
   "execution_count": 19,
   "metadata": {},
   "outputs": [
    {
     "data": {
      "image/png": "[encoded data removed]",
      "text/plain": [
       "<Figure size 432x288 with 1 Axes>"
      ]
     },
     "metadata": {
      "needs_background": "light"
     },
     "output_type": "display_data"
    }
   ],
   "source": [
    "# We can also plot precision against recall\n",
    "def plot_precision_recall(precisions, recalls):\n",
    "    plt.plot(recalls, precisions)\n",
    "    plt.xlabel('Recall')\n",
    "    plt.ylabel('Precision')\n",
    "    plt.title('Precision vs Recall')\n",
    "    plt.grid()\n",
    "    \n",
    "plot_precision_recall(precisions, recalls)"
   ]
  },
  {
   "cell_type": "code",
   "execution_count": 20,
   "metadata": {},
   "outputs": [
    {
     "name": "stdout",
     "output_type": "stream",
     "text": [
      "precision score:  0.9501039501039501\n",
      "recall score:  0.9258821543136924\n"
     ]
    }
   ],
   "source": [
    "# Let's say we want a model with exactly 95% precision\n",
    "\n",
    "# find the first index where precisions>=0.95 evaluates to True\n",
    "threshold_95p = thresholds[np.argmax(precisions >= 0.95)]\n",
    "\n",
    "y_train_95p_pred = (y_scores >= threshold_95p)\n",
    "\n",
    "# print out the respective precision and recall\n",
    "print('precision score: ', precision_score(y_train_0, y_train_95p_pred))\n",
    "print('recall score: ', recall_score(y_train_0, y_train_95p_pred))"
   ]
  },
  {
   "cell_type": "code",
   "execution_count": 21,
   "metadata": {},
   "outputs": [
    {
     "name": "stdout",
     "output_type": "stream",
     "text": [
      "ROC AUC score: 0.9951089652363219\n"
     ]
    }
   ],
   "source": [
    "# The ROC Curve plot the True positive rate against the False positive rate. \n",
    "# ROC AUC provides the area under the curve for ROC.\n",
    "\n",
    "from sklearn.metrics import roc_curve, roc_auc_score\n",
    "\n",
    "fpr, tpr, thresholds = roc_curve(y_train_0, y_scores)\n",
    "\n",
    "print('ROC AUC score:', roc_auc_score(y_train_0, y_scores))"
   ]
  },
  {
   "cell_type": "code",
   "execution_count": 22,
   "metadata": {},
   "outputs": [
    {
     "data": {
      "image/png": "[encoded data removed]",
      "text/plain": [
       "<Figure size 432x288 with 1 Axes>"
      ]
     },
     "metadata": {
      "needs_background": "light"
     },
     "output_type": "display_data"
    }
   ],
   "source": [
    "# plot the roc curve \n",
    "plt.plot(fpr, tpr, label='SGD')\n",
    "plt.xlabel('False Positive Rate')\n",
    "plt.ylabel('True Positive Rate (Recall)')\n",
    "plt.grid()\n",
    "plt.show()"
   ]
  },
  {
   "cell_type": "markdown",
   "metadata": {},
   "source": [
    "# Compare with Random Forest "
   ]
  },
  {
   "cell_type": "code",
   "execution_count": 23,
   "metadata": {},
   "outputs": [],
   "source": [
    "from sklearn.ensemble import RandomForestClassifier as RF \n",
    "\n",
    "forest_clf = RF()\n",
    "\n",
    "# predict_proba provides probability for both classes \n",
    "y_RF = cross_val_predict(forest_clf, X_train, y_train_0, cv=3, method='predict_proba')\n",
    "\n",
    "# we only need the positive class\n",
    "y_score_RF = y_RF[:,1]\n",
    "\n",
    "# get the fpr, tpr\n",
    "fpr_RF, tpr_RF, thresholds_RF = roc_curve(y_train_0, y_score_RF)"
   ]
  },
  {
   "cell_type": "code",
   "execution_count": 24,
   "metadata": {},
   "outputs": [
    {
     "data": {
      "image/png": "[encoded data removed]",
      "text/plain": [
       "<Figure size 432x288 with 1 Axes>"
      ]
     },
     "metadata": {
      "needs_background": "light"
     },
     "output_type": "display_data"
    }
   ],
   "source": [
    "# compare the roc curves\n",
    "plt.plot(fpr, tpr, label='SGD')\n",
    "plt.plot(fpr_RF, tpr_RF, label='Random Forest')\n",
    "plt.xlabel('False Positive Rate')\n",
    "plt.ylabel('True Positive Rate (Recall)')\n",
    "plt.grid()\n",
    "plt.legend()\n",
    "plt.show()"
   ]
  },
  {
   "cell_type": "markdown",
   "metadata": {},
   "source": [
    "# Training Set Expansion\n",
    "We can shift an image a little bit to get a new image with very different pixel positions. We can shift left, right, up, and down to get 4 more copies of an original image. Put them together and we can have 300,000 images.  "
   ]
  },
  {
   "cell_type": "code",
   "execution_count": 27,
   "metadata": {},
   "outputs": [],
   "source": [
    "from scipy.ndimage.interpolation import shift\n",
    "# training set augmentation \n",
    "def shift_image(image, dx, dy):\n",
    "    image = image.reshape((28, 28))\n",
    "    # use the scipy shift smethod\n",
    "    shifted_image = shift(image, [dy, dx], cval=0, mode=\"constant\")\n",
    "    return shifted_image.reshape([-1])\n",
    "\n",
    "X_train_augmented = [image for image in X_train]\n",
    "y_train_augmented = [label for label in y_train]\n",
    "\n",
    "for dx, dy in ((1, 0), (-1, 0), (0, 1), (0, -1)):\n",
    "    for image, label in zip(X_train, y_train):\n",
    "        X_train_augmented.append(shift_image(image, dx, dy))\n",
    "        y_train_augmented.append(label)\n",
    "\n",
    "X_train_augmented = np.array(X_train_augmented)\n",
    "y_train_augmented = np.array(y_train_augmented)"
   ]
  },
  {
   "cell_type": "code",
   "execution_count": 31,
   "metadata": {},
   "outputs": [],
   "source": [
    "# train a model using KNN\n",
    "\n",
    "from sklearn.neighbors import KNeighborsClassifier\n",
    "from sklearn.model_selection import GridSearchCV\n",
    "\n",
    "# we can do a grid search, but it takes hours. \n",
    "knn = KNeighborsClassifier()\n",
    "param_grid = [{'weights': [\"uniform\", \"distance\"], 'n_neighbors':  [4, 5]}]\n",
    "grid_search = GridSearchCV(knn, param_grid, cv=3, verbose=3)\n",
    "grid_search.fit(X_train, y_train)"
   ]
  },
  {
   "cell_type": "code",
   "execution_count": null,
   "metadata": {},
   "outputs": [],
   "source": [
    "# the best parameters are given by \n",
    "knn = KNeighborsClassifier(n_neighbors=4, weights='distance')\n",
    "knn.fit(X_train_augmented, y_train_augmented)\n",
    "knn.score(X_test, y_test)"
   ]
  }
 ],
 "metadata": {
  "kernelspec": {
   "display_name": "Python 3",
   "language": "python",
   "name": "python3"
  },
  "language_info": {
   "codemirror_mode": {
    "name": "ipython",
    "version": 3
   },
   "file_extension": ".py",
   "mimetype": "text/x-python",
   "name": "python",
   "nbconvert_exporter": "python",
   "pygments_lexer": "ipython3",
   "version": "3.7.3"
  }
 },
 "nbformat": 4,
 "nbformat_minor": 2
}
